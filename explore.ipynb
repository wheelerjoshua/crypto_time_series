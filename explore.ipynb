{
 "cells": [
  {
   "cell_type": "code",
   "execution_count": 22,
   "metadata": {},
   "outputs": [],
   "source": [
    "import pandas as pd\n",
    "import numpy as np\n",
    "import datetime\n",
    "from matplotlib import pyplot as plt\n",
    "import seaborn as sns\n",
    "import acquire\n",
    "\n",
    "from sklearn.pipeline import make_pipeline\n",
    "from sklearn.preprocessing import OrdinalEncoder\n",
    "from sklearn.compose import ColumnTransformer\n",
    "from sklearn.ensemble import HistGradientBoostingRegressor\n",
    "from sklearn.model_selection import cross_validate\n",
    "from sklearn.preprocessing import OneHotEncoder\n",
    "from sklearn.preprocessing import MinMaxScaler\n",
    "from sklearn.linear_model import RidgeCV\n",
    "from sklearn.model_selection import TimeSeriesSplit"
   ]
  },
  {
   "cell_type": "code",
   "execution_count": 2,
   "metadata": {},
   "outputs": [],
   "source": [
    "# get dataframe from acquire module\n",
    "df = acquire.get_df()"
   ]
  },
  {
   "cell_type": "code",
   "execution_count": 3,
   "metadata": {},
   "outputs": [
    {
     "data": {
      "text/html": [
       "<div>\n",
       "<style scoped>\n",
       "    .dataframe tbody tr th:only-of-type {\n",
       "        vertical-align: middle;\n",
       "    }\n",
       "\n",
       "    .dataframe tbody tr th {\n",
       "        vertical-align: top;\n",
       "    }\n",
       "\n",
       "    .dataframe thead th {\n",
       "        text-align: right;\n",
       "    }\n",
       "</style>\n",
       "<table border=\"1\" class=\"dataframe\">\n",
       "  <thead>\n",
       "    <tr style=\"text-align: right;\">\n",
       "      <th></th>\n",
       "      <th>Unix Timestamp</th>\n",
       "      <th>Date</th>\n",
       "      <th>Symbol</th>\n",
       "      <th>Open</th>\n",
       "      <th>High</th>\n",
       "      <th>Low</th>\n",
       "      <th>Close</th>\n",
       "      <th>Volume</th>\n",
       "    </tr>\n",
       "  </thead>\n",
       "  <tbody>\n",
       "    <tr>\n",
       "      <th>0</th>\n",
       "      <td>1648094400000</td>\n",
       "      <td>2022-03-24 04:00:00</td>\n",
       "      <td>BTCUSD</td>\n",
       "      <td>42754.74</td>\n",
       "      <td>42811.28</td>\n",
       "      <td>42754.74</td>\n",
       "      <td>42801.43</td>\n",
       "      <td>0.733911</td>\n",
       "    </tr>\n",
       "    <tr>\n",
       "      <th>1</th>\n",
       "      <td>1648008000000</td>\n",
       "      <td>2022-03-23 04:00:00</td>\n",
       "      <td>BTCUSD</td>\n",
       "      <td>42101.27</td>\n",
       "      <td>43295.15</td>\n",
       "      <td>41777.00</td>\n",
       "      <td>42754.74</td>\n",
       "      <td>1087.202534</td>\n",
       "    </tr>\n",
       "    <tr>\n",
       "      <th>2</th>\n",
       "      <td>1647921600000</td>\n",
       "      <td>2022-03-22 04:00:00</td>\n",
       "      <td>BTCUSD</td>\n",
       "      <td>42240.26</td>\n",
       "      <td>43359.99</td>\n",
       "      <td>41929.87</td>\n",
       "      <td>42101.27</td>\n",
       "      <td>1406.953520</td>\n",
       "    </tr>\n",
       "    <tr>\n",
       "      <th>3</th>\n",
       "      <td>1647835200000</td>\n",
       "      <td>2022-03-21 04:00:00</td>\n",
       "      <td>BTCUSD</td>\n",
       "      <td>40861.30</td>\n",
       "      <td>42500.00</td>\n",
       "      <td>40758.16</td>\n",
       "      <td>42240.26</td>\n",
       "      <td>879.141935</td>\n",
       "    </tr>\n",
       "    <tr>\n",
       "      <th>4</th>\n",
       "      <td>1647748800000</td>\n",
       "      <td>2022-03-20 04:00:00</td>\n",
       "      <td>BTCUSD</td>\n",
       "      <td>41969.76</td>\n",
       "      <td>42019.07</td>\n",
       "      <td>40529.07</td>\n",
       "      <td>40861.30</td>\n",
       "      <td>436.605166</td>\n",
       "    </tr>\n",
       "  </tbody>\n",
       "</table>\n",
       "</div>"
      ],
      "text/plain": [
       "   Unix Timestamp                 Date  Symbol      Open      High       Low  \\\n",
       "0   1648094400000  2022-03-24 04:00:00  BTCUSD  42754.74  42811.28  42754.74   \n",
       "1   1648008000000  2022-03-23 04:00:00  BTCUSD  42101.27  43295.15  41777.00   \n",
       "2   1647921600000  2022-03-22 04:00:00  BTCUSD  42240.26  43359.99  41929.87   \n",
       "3   1647835200000  2022-03-21 04:00:00  BTCUSD  40861.30  42500.00  40758.16   \n",
       "4   1647748800000  2022-03-20 04:00:00  BTCUSD  41969.76  42019.07  40529.07   \n",
       "\n",
       "      Close       Volume  \n",
       "0  42801.43     0.733911  \n",
       "1  42754.74  1087.202534  \n",
       "2  42101.27  1406.953520  \n",
       "3  42240.26   879.141935  \n",
       "4  40861.30   436.605166  "
      ]
     },
     "execution_count": 3,
     "metadata": {},
     "output_type": "execute_result"
    }
   ],
   "source": [
    "df.head()"
   ]
  },
  {
   "cell_type": "code",
   "execution_count": 4,
   "metadata": {},
   "outputs": [],
   "source": [
    "# rename columns for ease of use\n",
    "df.rename(columns= {'Unix Timestamp':'unix','Date':'date','Symbol':'symbol','Open':'open','High':'high','Low':'low','Close':'close','Volume':'volume'}, inplace = True)"
   ]
  },
  {
   "cell_type": "code",
   "execution_count": 5,
   "metadata": {},
   "outputs": [],
   "source": [
    "# change date column to datetime\n",
    "df.date = pd.to_datetime(df.date)\n",
    "\n",
    "# set the index to the date\n",
    "df = df.set_index('date').sort_index()\n",
    "\n",
    "# create day of week column for exploration use\n",
    "df['day_of_week'] = df.index.day_name()"
   ]
  },
  {
   "cell_type": "code",
   "execution_count": 48,
   "metadata": {},
   "outputs": [],
   "source": [
    "categorical_columns = ['symbol','day_of_week']\n",
    "categories = [[df.symbol.value_counts().index.to_list()]]"
   ]
  },
  {
   "cell_type": "code",
   "execution_count": 47,
   "metadata": {},
   "outputs": [
    {
     "data": {
      "text/plain": [
       "BTCUSD    2360\n",
       "ETHUSD    2146\n",
       "LTCUSD    1256\n",
       "Name: symbol, dtype: int64"
      ]
     },
     "execution_count": 47,
     "metadata": {},
     "output_type": "execute_result"
    }
   ],
   "source": [
    "# how many days of each crypto are in the dataframe\n",
    "df.symbol.value_counts()"
   ]
  },
  {
   "cell_type": "code",
   "execution_count": 7,
   "metadata": {},
   "outputs": [
    {
     "data": {
      "text/plain": [
       "<AxesSubplot:xlabel='date'>"
      ]
     },
     "execution_count": 7,
     "metadata": {},
     "output_type": "execute_result"
    },
    {
     "data": {
      "image/png": "[encoded data removed]",
      "text/plain": [
       "<Figure size 432x288 with 1 Axes>"
      ]
     },
     "metadata": {
      "needs_background": "light"
     },
     "output_type": "display_data"
    }
   ],
   "source": [
    "# check the daily mean of closing price for bitcoin\n",
    "df[df.symbol == 'BTCUSD'].resample('W').close.mean().plot()"
   ]
  },
  {
   "cell_type": "code",
   "execution_count": 8,
   "metadata": {},
   "outputs": [
    {
     "data": {
      "text/plain": [
       "<AxesSubplot:xlabel='date'>"
      ]
     },
     "execution_count": 8,
     "metadata": {},
     "output_type": "execute_result"
    },
    {
     "data": {
      "image/png": "[encoded data removed]",
      "text/plain": [
       "<Figure size 432x288 with 1 Axes>"
      ]
     },
     "metadata": {
      "needs_background": "light"
     },
     "output_type": "display_data"
    }
   ],
   "source": [
    "# repeat for etherium\n",
    "df[df.symbol == 'ETHUSD'].resample('W').close.mean().plot()"
   ]
  },
  {
   "cell_type": "code",
   "execution_count": 9,
   "metadata": {},
   "outputs": [
    {
     "data": {
      "text/plain": [
       "<AxesSubplot:xlabel='date'>"
      ]
     },
     "execution_count": 9,
     "metadata": {},
     "output_type": "execute_result"
    },
    {
     "data": {
      "image/png": "[encoded data removed]",
      "text/plain": [
       "<Figure size 432x288 with 1 Axes>"
      ]
     },
     "metadata": {
      "needs_background": "light"
     },
     "output_type": "display_data"
    }
   ],
   "source": [
    "# repeat for lightcoin\n",
    "df[df.symbol == 'LTCUSD'].resample('W').close.mean().plot()"
   ]
  },
  {
   "cell_type": "markdown",
   "metadata": {},
   "source": [
    "With the massive hike in crypto in 2021, cutting out earlier dates may improve modeling"
   ]
  },
  {
   "cell_type": "code",
   "execution_count": 10,
   "metadata": {},
   "outputs": [],
   "source": [
    "# create second dataframe of dates >= 2021\n",
    "df2 = df[df.index >= \"2021\"]"
   ]
  },
  {
   "cell_type": "code",
   "execution_count": 11,
   "metadata": {},
   "outputs": [
    {
     "data": {
      "text/plain": [
       "BTCUSD    448\n",
       "ETHUSD    448\n",
       "LTCUSD    448\n",
       "Name: symbol, dtype: int64"
      ]
     },
     "execution_count": 11,
     "metadata": {},
     "output_type": "execute_result"
    }
   ],
   "source": [
    "# we should have the same amount of obserations for each cryptocurrency now\n",
    "df2.symbol.value_counts()"
   ]
  },
  {
   "cell_type": "code",
   "execution_count": 12,
   "metadata": {},
   "outputs": [
    {
     "data": {
      "text/plain": [
       "<AxesSubplot:xlabel='date'>"
      ]
     },
     "execution_count": 12,
     "metadata": {},
     "output_type": "execute_result"
    },
    {
     "data": {
      "image/png": "[encoded data removed]",
      "text/plain": [
       "<Figure size 432x288 with 1 Axes>"
      ]
     },
     "metadata": {
      "needs_background": "light"
     },
     "output_type": "display_data"
    }
   ],
   "source": [
    "# double check plot \n",
    "df2[df2.symbol == 'BTCUSD'].resample('W').close.mean().plot()"
   ]
  },
  {
   "cell_type": "markdown",
   "metadata": {},
   "source": [
    "It does not look like there is a seasonality and with the volatility of crypto, Cross Validation might be the best approach to splitting the data."
   ]
  },
  {
   "cell_type": "code",
   "execution_count": 14,
   "metadata": {},
   "outputs": [],
   "source": [
    "# define X and y for splitting\n",
    "X = df.drop(columns = 'close')\n",
    "y = df.close"
   ]
  },
  {
   "cell_type": "code",
   "execution_count": 15,
   "metadata": {},
   "outputs": [],
   "source": [
    "# create the splitter\n",
    "# test_size set to 60 to cover two months of data\n",
    "# gap of 1 day between train/test\n",
    "tscv = TimeSeriesSplit(n_splits = 5, test_size = 60, gap = 1)"
   ]
  },
  {
   "cell_type": "code",
   "execution_count": 16,
   "metadata": {},
   "outputs": [],
   "source": [
    "# use the splitter\n",
    "all_splits = list(tscv.split(X, y))"
   ]
  },
  {
   "cell_type": "code",
   "execution_count": 17,
   "metadata": {},
   "outputs": [],
   "source": [
    "# check first split\n",
    "train_0, test_0 = all_splits[0]"
   ]
  },
  {
   "cell_type": "code",
   "execution_count": 18,
   "metadata": {},
   "outputs": [
    {
     "name": "stdout",
     "output_type": "stream",
     "text": [
      "(5461, 7)\n",
      "(60, 7)\n"
     ]
    }
   ],
   "source": [
    "# double check split shapes\n",
    "print(X.iloc[train_0].shape)\n",
    "print(X.iloc[test_0].shape)"
   ]
  },
  {
   "cell_type": "code",
   "execution_count": 36,
   "metadata": {},
   "outputs": [],
   "source": [
    "def evaluate(model, X, y, cv):\n",
    "    cv_results = cross_validate(\n",
    "        model,\n",
    "        X,\n",
    "        y,\n",
    "        cv=cv,\n",
    "        scoring=[\"neg_mean_absolute_error\", \"neg_root_mean_squared_error\"],\n",
    "    )\n",
    "    mae = -cv_results[\"test_neg_mean_absolute_error\"]\n",
    "    rmse = -cv_results[\"test_neg_root_mean_squared_error\"]\n",
    "    print(\n",
    "        f\"Mean Absolute Error:     {mae.mean():.3f} +/- {mae.std():.3f}\\n\"\n",
    "        f\"Root Mean Squared Error: {rmse.mean():.3f} +/- {rmse.std():.3f}\"\n",
    "    )\n",
    "    return rmse.mean()"
   ]
  },
  {
   "cell_type": "code",
   "execution_count": 52,
   "metadata": {},
   "outputs": [],
   "source": [
    "# ordinal_encoder = OrdinalEncoder(categories=categories)\n",
    "\n",
    "\n",
    "# gbrt_pipeline = make_pipeline(\n",
    "#     ColumnTransformer(\n",
    "#         transformers=[\n",
    "#             (\"categorical\", ordinal_encoder, categorical_columns),\n",
    "#         ],\n",
    "#         remainder=\"passthrough\",\n",
    "#     ),\n",
    "#     HistGradientBoostingRegressor(\n",
    "#         categorical_features=range(3),\n",
    "#     ),\n",
    "# )\n",
    "\n",
    "# evaluate(gbrt_pipeline, X, y, cv=tscv)\n"
   ]
  },
  {
   "cell_type": "code",
   "execution_count": 37,
   "metadata": {},
   "outputs": [
    {
     "name": "stdout",
     "output_type": "stream",
     "text": [
      "Mean Absolute Error:     180.932 +/- 30.559\n",
      "Root Mean Squared Error: 381.673 +/- 79.132\n"
     ]
    }
   ],
   "source": [
    "one_hot_encoder = OneHotEncoder(handle_unknown=\"ignore\", sparse=False)\n",
    "alphas = np.logspace(-6, 6, 25)\n",
    "naive_linear_pipeline = make_pipeline(\n",
    "    ColumnTransformer(\n",
    "        transformers=[\n",
    "            (\"categorical\", one_hot_encoder, ['symbol','day_of_week']),\n",
    "        ],\n",
    "        remainder=MinMaxScaler(),\n",
    "    ),\n",
    "    RidgeCV(alphas=alphas),\n",
    ")\n",
    "\n",
    "\n",
    "lm_rmse = evaluate(naive_linear_pipeline, X, y, cv=tscv)"
   ]
  },
  {
   "cell_type": "code",
   "execution_count": 39,
   "metadata": {},
   "outputs": [
    {
     "data": {
      "text/plain": [
       "5845.860057271779"
      ]
     },
     "execution_count": 39,
     "metadata": {},
     "output_type": "execute_result"
    }
   ],
   "source": [
    "df.close.mean()"
   ]
  }
 ],
 "metadata": {
  "interpreter": {
   "hash": "38cca0c38332a56087b24af0bc80247f4fced29cb4f7f437d91dc159adec9c4e"
  },
  "kernelspec": {
   "display_name": "Python 3.8.12 ('base')",
   "language": "python",
   "name": "python3"
  },
  "language_info": {
   "codemirror_mode": {
    "name": "ipython",
    "version": 3
   },
   "file_extension": ".py",
   "mimetype": "text/x-python",
   "name": "python",
   "nbconvert_exporter": "python",
   "pygments_lexer": "ipython3",
   "version": "3.8.12"
  },
  "orig_nbformat": 4
 },
 "nbformat": 4,
 "nbformat_minor": 2
}
